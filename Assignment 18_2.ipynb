{
 "cells": [
  {
   "cell_type": "code",
   "execution_count": 22,
   "metadata": {},
   "outputs": [
    {
     "name": "stdout",
     "output_type": "stream",
     "text": [
      "Mean of total Republicans in both states is 0.05\n",
      "Std. Deviation is 0.07\n",
      "zScore is -0.71\n",
      "Using Stat Trek's Normal Distribution Calculator, we find that the probability of a z-score being -0.7082 or less is 0.24.\n"
     ]
    }
   ],
   "source": [
    "#Course: Data Science Masters\n",
    "#Title: Assignment 18.2\n",
    "#Tool: Jupyter notebook \n",
    "#Author: Krishna A\n",
    "#Date: 25-05-2018 (DD/MM/YYYY)\n",
    "\n",
    "#Problem Statement \n",
    "\n",
    "# In one state, 52% of the voters are Republicans, and 48% are Democrats. In a second\n",
    "# state, 47% of the voters are Republicans, and 53% are Democrats. Suppose a simple\n",
    "# random sample of 100 voters are surveyed from each state.\n",
    "# What is the probability that the survey will show a greater percentage of Republican\n",
    "# voters in the second state than in the first state?\n",
    "\n",
    "import math as m\n",
    "\n",
    "n1R1 = 0.52        #Total republicans in State 1\n",
    "n1D1 = 0.48        #Total Democrats in State 1\n",
    "n2R1 = 0.47        #Total republicans in State 2\n",
    "n2D1 = 0.53        #Total Democrats in State 2\n",
    "\n",
    "mRepublicans = (n1R1 - n2R1) #mean of the difference in sample proportions\n",
    "print(\"Mean of total Republicans in both states is\", format(mRepublicans, '.2f'))\n",
    "\n",
    "#Find the standard deviation of the difference\n",
    "sdDiff = m.sqrt(((n1R1 * (1 - n1R1)) / 100) + ((n2R1 * (1 - n2R1)) / 100))\n",
    "print(\"Std. Deviation is\", format(sdDiff, '.2f'))\n",
    "\n",
    "zScore = (0 - mRepublicans ) / sdDiff\n",
    "print(\"zScore is\", format(zScore, '.2f'))\n",
    "\n",
    "print(\"Using Stat Trek's Normal Distribution Calculator, we find that the probability of a z-score being -0.7082 or less is 0.24.\") "
   ]
  },
  {
   "cell_type": "code",
   "execution_count": null,
   "metadata": {
    "collapsed": true
   },
   "outputs": [],
   "source": []
  }
 ],
 "metadata": {
  "kernelspec": {
   "display_name": "Python 3",
   "language": "python",
   "name": "python3"
  },
  "language_info": {
   "codemirror_mode": {
    "name": "ipython",
    "version": 3
   },
   "file_extension": ".py",
   "mimetype": "text/x-python",
   "name": "python",
   "nbconvert_exporter": "python",
   "pygments_lexer": "ipython3",
   "version": "3.6.3"
  }
 },
 "nbformat": 4,
 "nbformat_minor": 2
}
